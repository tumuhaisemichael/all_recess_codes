{
 "cells": [
  {
   "cell_type": "markdown",
   "id": "5c0acd45",
   "metadata": {},
   "source": [
    "Assignment with First Dataset"
   ]
  },
  {
   "cell_type": "code",
   "execution_count": null,
   "id": "e9727f0a",
   "metadata": {},
   "outputs": [],
   "source": [
    "import pandas as pd"
   ]
  },
  {
   "cell_type": "code",
   "execution_count": null,
   "id": "bcd1e2d8",
   "metadata": {},
   "outputs": [],
   "source": [
    "print(\"mic\")"
   ]
  },
  {
   "cell_type": "code",
   "execution_count": null,
   "id": "5b7320dd",
   "metadata": {},
   "outputs": [],
   "source": []
  }
 ],
 "metadata": {
  "kernelspec": {
   "display_name": "Python 3 (ipykernel)",
   "language": "python",
   "name": "python3"
  }
 },
 "nbformat": 4,
 "nbformat_minor": 5
}
