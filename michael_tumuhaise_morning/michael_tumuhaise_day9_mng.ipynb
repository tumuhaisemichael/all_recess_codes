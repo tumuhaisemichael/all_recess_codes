{
 "cells": [
  {
   "cell_type": "code",
   "execution_count": 1,
   "id": "51983ba4",
   "metadata": {},
   "outputs": [
    {
     "data": {
      "text/plain": [
       "'\\nintroduction to Machine Learning\\nAlogrithms, models that help computers to learn and predict\\nsummary\\nimage processing\\nspeech recognition\\nfraud detection\\n\\nApproaches to machine learning\\nsupervised learning: dataset that is labelled, predict, linear regression, decision tree, support vectors, vector machine, neural networks\\n    \\nunsupervised learning: deals eith unlabelled data. use clustering algorithm to group data togther, k-means clustering, hierachical clustering, PCA(principal component analysis)\\n\\nReinforcement learning\\n\\nProblem formulation\\ndefine the problem| classification task, regression analysis, clustering, anomally detection recommendation\\ngather the data\\nsplit the data\\n\\nData types\\n3 cats\\nnumerical data can be discrete(intergers) or continuous(infinite values)\\ncategorical data, cant be measured against eac data\\nordinal dat, measure aganist each other\\n'"
      ]
     },
     "execution_count": 1,
     "metadata": {},
     "output_type": "execute_result"
    }
   ],
   "source": [
    "\"\"\"\n",
    "introduction to Machine Learning\n",
    "Alogrithms, models that help computers to learn and predict\n",
    "summary\n",
    "image processing\n",
    "speech recognition\n",
    "fraud detection\n",
    "\n",
    "Approaches to machine learning\n",
    "supervised learning: dataset that is labelled, predict, linear regression, decision tree, support vectors, vector machine, neural networks\n",
    "    \n",
    "unsupervised learning: deals eith unlabelled data. use clustering algorithm to group data togther, k-means clustering, hierachical clustering, PCA(principal component analysis)\n",
    "\n",
    "Reinforcement learning\n",
    "\n",
    "Problem formulation\n",
    "define the problem| classification task, regression analysis, clustering, anomally detection recommendation\n",
    "gather the data\n",
    "split the data\n",
    "\n",
    "Data types\n",
    "3 cats\n",
    "numerical data can be discrete(intergers) or continuous(infinite values)\n",
    "categorical data, cant be measured against eac data\n",
    "ordinal dat, measure aganist each other\n",
    "\"\"\""
   ]
  },
  {
   "cell_type": "code",
   "execution_count": 2,
   "id": "dc140ec9",
   "metadata": {},
   "outputs": [],
   "source": [
    "# check if you have scikit installed \n",
    "# pip show skikit- learn # check if scikit -learn is installed \n",
    "# pip install -U scikit-learn"
   ]
  },
  {
   "cell_type": "code",
   "execution_count": 3,
   "id": "85c776c7",
   "metadata": {},
   "outputs": [],
   "source": [
    "import numpy as np # linear algebra\n",
    "import pandas as pd # data processing .csv files\n",
    "import matplotlib.pyplot as plt # plotting and data visualation\n",
    "import seaborn as sns # statistical data visualization\n",
    "\n",
    "\n",
    "# ML for regression\n",
    "from sklearn.linear_model import LogisticRegression\n",
    "from sklearn.model_selection import train_test_split\n",
    "\n",
    "# control display | \n",
    "# pd.option.display.max_columnS=50\n",
    "# sns.set(style=\"darkgrid\",rc={'axes.facecolor': '#CAFIDE'})\n",
    "\n",
    "# import warnings\n",
    "import warnings \n",
    "warnings.filterwarnings('ignore')"
   ]
  },
  {
   "cell_type": "code",
   "execution_count": 4,
   "id": "2be3b782",
   "metadata": {},
   "outputs": [
    {
     "data": {
      "text/html": [
       "<div>\n",
       "<style scoped>\n",
       "    .dataframe tbody tr th:only-of-type {\n",
       "        vertical-align: middle;\n",
       "    }\n",
       "\n",
       "    .dataframe tbody tr th {\n",
       "        vertical-align: top;\n",
       "    }\n",
       "\n",
       "    .dataframe thead th {\n",
       "        text-align: right;\n",
       "    }\n",
       "</style>\n",
       "<table border=\"1\" class=\"dataframe\">\n",
       "  <thead>\n",
       "    <tr style=\"text-align: right;\">\n",
       "      <th></th>\n",
       "      <th>age</th>\n",
       "      <th>sex</th>\n",
       "      <th>cp</th>\n",
       "      <th>trestbps</th>\n",
       "      <th>chol</th>\n",
       "      <th>fbs</th>\n",
       "      <th>restecg</th>\n",
       "      <th>thalach</th>\n",
       "      <th>exang</th>\n",
       "      <th>oldpeak</th>\n",
       "      <th>slope</th>\n",
       "      <th>ca</th>\n",
       "      <th>thal</th>\n",
       "      <th>target</th>\n",
       "    </tr>\n",
       "  </thead>\n",
       "  <tbody>\n",
       "    <tr>\n",
       "      <th>0</th>\n",
       "      <td>52</td>\n",
       "      <td>1</td>\n",
       "      <td>0</td>\n",
       "      <td>125</td>\n",
       "      <td>212</td>\n",
       "      <td>0</td>\n",
       "      <td>1</td>\n",
       "      <td>168</td>\n",
       "      <td>0</td>\n",
       "      <td>1.0</td>\n",
       "      <td>2</td>\n",
       "      <td>2</td>\n",
       "      <td>3</td>\n",
       "      <td>0</td>\n",
       "    </tr>\n",
       "    <tr>\n",
       "      <th>1</th>\n",
       "      <td>53</td>\n",
       "      <td>1</td>\n",
       "      <td>0</td>\n",
       "      <td>140</td>\n",
       "      <td>203</td>\n",
       "      <td>1</td>\n",
       "      <td>0</td>\n",
       "      <td>155</td>\n",
       "      <td>1</td>\n",
       "      <td>3.1</td>\n",
       "      <td>0</td>\n",
       "      <td>0</td>\n",
       "      <td>3</td>\n",
       "      <td>0</td>\n",
       "    </tr>\n",
       "    <tr>\n",
       "      <th>2</th>\n",
       "      <td>70</td>\n",
       "      <td>1</td>\n",
       "      <td>0</td>\n",
       "      <td>145</td>\n",
       "      <td>174</td>\n",
       "      <td>0</td>\n",
       "      <td>1</td>\n",
       "      <td>125</td>\n",
       "      <td>1</td>\n",
       "      <td>2.6</td>\n",
       "      <td>0</td>\n",
       "      <td>0</td>\n",
       "      <td>3</td>\n",
       "      <td>0</td>\n",
       "    </tr>\n",
       "    <tr>\n",
       "      <th>3</th>\n",
       "      <td>61</td>\n",
       "      <td>1</td>\n",
       "      <td>0</td>\n",
       "      <td>148</td>\n",
       "      <td>203</td>\n",
       "      <td>0</td>\n",
       "      <td>1</td>\n",
       "      <td>161</td>\n",
       "      <td>0</td>\n",
       "      <td>0.0</td>\n",
       "      <td>2</td>\n",
       "      <td>1</td>\n",
       "      <td>3</td>\n",
       "      <td>0</td>\n",
       "    </tr>\n",
       "    <tr>\n",
       "      <th>4</th>\n",
       "      <td>62</td>\n",
       "      <td>0</td>\n",
       "      <td>0</td>\n",
       "      <td>138</td>\n",
       "      <td>294</td>\n",
       "      <td>1</td>\n",
       "      <td>1</td>\n",
       "      <td>106</td>\n",
       "      <td>0</td>\n",
       "      <td>1.9</td>\n",
       "      <td>1</td>\n",
       "      <td>3</td>\n",
       "      <td>2</td>\n",
       "      <td>0</td>\n",
       "    </tr>\n",
       "    <tr>\n",
       "      <th>5</th>\n",
       "      <td>58</td>\n",
       "      <td>0</td>\n",
       "      <td>0</td>\n",
       "      <td>100</td>\n",
       "      <td>248</td>\n",
       "      <td>0</td>\n",
       "      <td>0</td>\n",
       "      <td>122</td>\n",
       "      <td>0</td>\n",
       "      <td>1.0</td>\n",
       "      <td>1</td>\n",
       "      <td>0</td>\n",
       "      <td>2</td>\n",
       "      <td>1</td>\n",
       "    </tr>\n",
       "    <tr>\n",
       "      <th>6</th>\n",
       "      <td>58</td>\n",
       "      <td>1</td>\n",
       "      <td>0</td>\n",
       "      <td>114</td>\n",
       "      <td>318</td>\n",
       "      <td>0</td>\n",
       "      <td>2</td>\n",
       "      <td>140</td>\n",
       "      <td>0</td>\n",
       "      <td>4.4</td>\n",
       "      <td>0</td>\n",
       "      <td>3</td>\n",
       "      <td>1</td>\n",
       "      <td>0</td>\n",
       "    </tr>\n",
       "    <tr>\n",
       "      <th>7</th>\n",
       "      <td>55</td>\n",
       "      <td>1</td>\n",
       "      <td>0</td>\n",
       "      <td>160</td>\n",
       "      <td>289</td>\n",
       "      <td>0</td>\n",
       "      <td>0</td>\n",
       "      <td>145</td>\n",
       "      <td>1</td>\n",
       "      <td>0.8</td>\n",
       "      <td>1</td>\n",
       "      <td>1</td>\n",
       "      <td>3</td>\n",
       "      <td>0</td>\n",
       "    </tr>\n",
       "    <tr>\n",
       "      <th>8</th>\n",
       "      <td>46</td>\n",
       "      <td>1</td>\n",
       "      <td>0</td>\n",
       "      <td>120</td>\n",
       "      <td>249</td>\n",
       "      <td>0</td>\n",
       "      <td>0</td>\n",
       "      <td>144</td>\n",
       "      <td>0</td>\n",
       "      <td>0.8</td>\n",
       "      <td>2</td>\n",
       "      <td>0</td>\n",
       "      <td>3</td>\n",
       "      <td>0</td>\n",
       "    </tr>\n",
       "    <tr>\n",
       "      <th>9</th>\n",
       "      <td>54</td>\n",
       "      <td>1</td>\n",
       "      <td>0</td>\n",
       "      <td>122</td>\n",
       "      <td>286</td>\n",
       "      <td>0</td>\n",
       "      <td>0</td>\n",
       "      <td>116</td>\n",
       "      <td>1</td>\n",
       "      <td>3.2</td>\n",
       "      <td>1</td>\n",
       "      <td>2</td>\n",
       "      <td>2</td>\n",
       "      <td>0</td>\n",
       "    </tr>\n",
       "  </tbody>\n",
       "</table>\n",
       "</div>"
      ],
      "text/plain": [
       "   age  sex  cp  trestbps  chol  fbs  restecg  thalach  exang  oldpeak  slope  \\\n",
       "0   52    1   0       125   212    0        1      168      0      1.0      2   \n",
       "1   53    1   0       140   203    1        0      155      1      3.1      0   \n",
       "2   70    1   0       145   174    0        1      125      1      2.6      0   \n",
       "3   61    1   0       148   203    0        1      161      0      0.0      2   \n",
       "4   62    0   0       138   294    1        1      106      0      1.9      1   \n",
       "5   58    0   0       100   248    0        0      122      0      1.0      1   \n",
       "6   58    1   0       114   318    0        2      140      0      4.4      0   \n",
       "7   55    1   0       160   289    0        0      145      1      0.8      1   \n",
       "8   46    1   0       120   249    0        0      144      0      0.8      2   \n",
       "9   54    1   0       122   286    0        0      116      1      3.2      1   \n",
       "\n",
       "   ca  thal  target  \n",
       "0   2     3       0  \n",
       "1   0     3       0  \n",
       "2   0     3       0  \n",
       "3   1     3       0  \n",
       "4   3     2       0  \n",
       "5   0     2       1  \n",
       "6   3     1       0  \n",
       "7   1     3       0  \n",
       "8   0     3       0  \n",
       "9   2     2       0  "
      ]
     },
     "execution_count": 4,
     "metadata": {},
     "output_type": "execute_result"
    }
   ],
   "source": [
    "# load dataset\n",
    "df = pd.read_csv('heart_disease.csv')\n",
    "df.head(10)"
   ]
  },
  {
   "cell_type": "code",
   "execution_count": 5,
   "id": "d0549b05",
   "metadata": {},
   "outputs": [
    {
     "data": {
      "text/plain": [
       "'\\ncp= chest pain\\ntrestbps= resting blood pressure\\nchol= cholesterol\\nfbs= fasting blood sugar\\nrestecg= resting electrocaediograpy\\nexamg= excerise induced agina\\noldpeek= ST depression induced \\nslope= the slope of the park execrise\\nca= number of major vessel\\nthal = normal. fexied defect, revesible defect\\ntarget= 1 you have, 0 u dont\\n'"
      ]
     },
     "execution_count": 5,
     "metadata": {},
     "output_type": "execute_result"
    }
   ],
   "source": [
    "\"\"\"\n",
    "cp= chest pain\n",
    "trestbps= resting blood pressure\n",
    "chol= cholesterol\n",
    "fbs= fasting blood sugar\n",
    "restecg= resting electrocaediograpy\n",
    "examg= excerise induced agina\n",
    "oldpeek= ST depression induced \n",
    "slope= the slope of the park execrise\n",
    "ca= number of major vessel\n",
    "thal = normal. fexied defect, revesible defect\n",
    "target= 1 you have, 0 u dont\n",
    "\"\"\""
   ]
  },
  {
   "cell_type": "code",
   "execution_count": 6,
   "id": "6dd746cc",
   "metadata": {},
   "outputs": [
    {
     "data": {
      "text/plain": [
       "1    526\n",
       "0    499\n",
       "Name: target, dtype: int64"
      ]
     },
     "execution_count": 6,
     "metadata": {},
     "output_type": "execute_result"
    }
   ],
   "source": [
    "# show people with hearth disease\n",
    "df.target.value_counts()"
   ]
  },
  {
   "cell_type": "code",
   "execution_count": 7,
   "id": "b61ac3f0",
   "metadata": {},
   "outputs": [
    {
     "name": "stdout",
     "output_type": "stream",
     "text": [
      "percentage of female patients: 30.44%\n",
      "percentage of male patients: 69.56%\n"
     ]
    }
   ],
   "source": [
    "# show male and female\n",
    "count_female =len(df[df.sex == 0])\n",
    "count_male =len(df[df.sex == 1])\n",
    "# show output\n",
    "print(\"percentage of female patients: {:.2f}%\".format(count_female/(len(df.sex))*100))\n",
    "print(\"percentage of male patients: {:.2f}%\".format(count_male/(len(df.sex))*100))"
   ]
  },
  {
   "cell_type": "code",
   "execution_count": 8,
   "id": "c27c6299",
   "metadata": {},
   "outputs": [
    {
     "data": {
      "text/html": [
       "<div>\n",
       "<style scoped>\n",
       "    .dataframe tbody tr th:only-of-type {\n",
       "        vertical-align: middle;\n",
       "    }\n",
       "\n",
       "    .dataframe tbody tr th {\n",
       "        vertical-align: top;\n",
       "    }\n",
       "\n",
       "    .dataframe thead th {\n",
       "        text-align: right;\n",
       "    }\n",
       "</style>\n",
       "<table border=\"1\" class=\"dataframe\">\n",
       "  <thead>\n",
       "    <tr style=\"text-align: right;\">\n",
       "      <th></th>\n",
       "      <th>age</th>\n",
       "      <th>sex</th>\n",
       "      <th>cp</th>\n",
       "      <th>trestbps</th>\n",
       "      <th>chol</th>\n",
       "      <th>fbs</th>\n",
       "      <th>restecg</th>\n",
       "      <th>thalach</th>\n",
       "      <th>exang</th>\n",
       "      <th>oldpeak</th>\n",
       "      <th>slope</th>\n",
       "      <th>ca</th>\n",
       "      <th>thal</th>\n",
       "    </tr>\n",
       "    <tr>\n",
       "      <th>target</th>\n",
       "      <th></th>\n",
       "      <th></th>\n",
       "      <th></th>\n",
       "      <th></th>\n",
       "      <th></th>\n",
       "      <th></th>\n",
       "      <th></th>\n",
       "      <th></th>\n",
       "      <th></th>\n",
       "      <th></th>\n",
       "      <th></th>\n",
       "      <th></th>\n",
       "      <th></th>\n",
       "    </tr>\n",
       "  </thead>\n",
       "  <tbody>\n",
       "    <tr>\n",
       "      <th>0</th>\n",
       "      <td>56.569138</td>\n",
       "      <td>0.827655</td>\n",
       "      <td>0.482966</td>\n",
       "      <td>134.106212</td>\n",
       "      <td>251.292585</td>\n",
       "      <td>0.164329</td>\n",
       "      <td>0.456914</td>\n",
       "      <td>139.130261</td>\n",
       "      <td>0.549098</td>\n",
       "      <td>1.600200</td>\n",
       "      <td>1.166333</td>\n",
       "      <td>1.158317</td>\n",
       "      <td>2.539078</td>\n",
       "    </tr>\n",
       "    <tr>\n",
       "      <th>1</th>\n",
       "      <td>52.408745</td>\n",
       "      <td>0.570342</td>\n",
       "      <td>1.378327</td>\n",
       "      <td>129.245247</td>\n",
       "      <td>240.979087</td>\n",
       "      <td>0.134981</td>\n",
       "      <td>0.598859</td>\n",
       "      <td>158.585551</td>\n",
       "      <td>0.134981</td>\n",
       "      <td>0.569962</td>\n",
       "      <td>1.593156</td>\n",
       "      <td>0.370722</td>\n",
       "      <td>2.119772</td>\n",
       "    </tr>\n",
       "  </tbody>\n",
       "</table>\n",
       "</div>"
      ],
      "text/plain": [
       "              age       sex        cp    trestbps        chol       fbs  \\\n",
       "target                                                                    \n",
       "0       56.569138  0.827655  0.482966  134.106212  251.292585  0.164329   \n",
       "1       52.408745  0.570342  1.378327  129.245247  240.979087  0.134981   \n",
       "\n",
       "         restecg     thalach     exang   oldpeak     slope        ca      thal  \n",
       "target                                                                          \n",
       "0       0.456914  139.130261  0.549098  1.600200  1.166333  1.158317  2.539078  \n",
       "1       0.598859  158.585551  0.134981  0.569962  1.593156  0.370722  2.119772  "
      ]
     },
     "execution_count": 8,
     "metadata": {},
     "output_type": "execute_result"
    }
   ],
   "source": [
    "df.groupby('target').mean()"
   ]
  },
  {
   "cell_type": "code",
   "execution_count": 9,
   "id": "0ecdd134",
   "metadata": {},
   "outputs": [
    {
     "data": {
      "image/png": "[encoded data removed]",
      "text/plain": [
       "<Figure size 2000x600 with 1 Axes>"
      ]
     },
     "metadata": {},
     "output_type": "display_data"
    }
   ],
   "source": [
    "# bar plot showing heart disease freguaeny of age\n",
    "pd.crosstab(df.age, df.target).plot(kind='bar', figsize=(20,6))\n",
    "plt.title('Heart Disease Frequency for Age')\n",
    "plt.xlabel('Age')\n",
    "plt.ylabel('target')\n",
    "plt.show()"
   ]
  },
  {
   "cell_type": "code",
   "execution_count": 10,
   "id": "ee61de60",
   "metadata": {},
   "outputs": [
    {
     "data": {
      "image/png": "[encoded data removed]",
      "text/plain": [
       "<Figure size 2000x600 with 1 Axes>"
      ]
     },
     "metadata": {},
     "output_type": "display_data"
    }
   ],
   "source": [
    "# data visualastion for heart disease freuguency for sex\n",
    "pd.crosstab(df.sex, df.target).plot(kind='bar', figsize=(20,6), color=['#ACDDDE','#F7DBBA'])\n",
    "plt.title('Heart Disease Frequency for sex')\n",
    "plt.xlabel('sex (0=Female 1=Male)')\n",
    "plt.legend(['Have Disease', 'Doesnt have Disease'])\n",
    "plt.xticks(rotation=0)\n",
    "plt.ylabel('frequency')\n",
    "plt.show()"
   ]
  },
  {
   "cell_type": "code",
   "execution_count": 27,
   "id": "52e2f17d",
   "metadata": {},
   "outputs": [
    {
     "data": {
      "image/png": "[encoded data removed]",
      "text/plain": [
       "<Figure size 640x480 with 1 Axes>"
      ]
     },
     "metadata": {},
     "output_type": "display_data"
    }
   ],
   "source": [
    "# scatter plot\n",
    "# pd.crosstab(df.sex, df.target).plot(kind='scatter', figsize=(20,6), color=['#ACDDDE','#F7DBBA'])\n",
    "plt.scatter(df.sex,df.target)\n",
    "plt.title('scatter grap Heart Disease Frequency for sex')\n",
    "plt.xlabel('sex (0=Female 1=Male)')\n",
    "plt.ylabel('frequency')\n",
    "plt.show()"
   ]
  },
  {
   "cell_type": "code",
   "execution_count": null,
   "id": "c83579cf",
   "metadata": {},
   "outputs": [],
   "source": [
    "\"\"\"\n",
    "Training data\n",
    "independent and dependent variables\n",
    "divide data x and y\n",
    "train_x, test_x, train_y, test_y\n",
    "x_train, x_test, y_train, y_test\n",
    "\"\"\"\n",
    "#splitting data\n",
    "\"\"\"\n",
    "divide data into 2 subsets\n",
    "Larger portion for training\n",
    "80% for training and 20% for testin\n",
    "\n",
    "Evalualate performances Accuarcy 100%\n",
    "\n",
    "Model testing\n",
    "be specific with the training algoritm(linear regression, decision trees, svm, knn,)\n",
    "Model Evaluation\n",
    "evaluation metrics(accuracy, precision,recall, f1-score, mean squared error)\n",
    "Performnce Assessment\n",
    " give insight about the performance\n",
    "\"\"\""
   ]
  },
  {
   "cell_type": "code",
   "execution_count": 22,
   "id": "d3b48119",
   "metadata": {},
   "outputs": [
    {
     "name": "stdout",
     "output_type": "stream",
     "text": [
      "[1]\n"
     ]
    }
   ],
   "source": [
    "#create data using array\n",
    "from sklearn import linear_model\n",
    "import numpy \n",
    "x = numpy.array([1,2,3,4]).reshape(-1, 1)\n",
    "y = numpy.array([0,0,1,1]) # 0 is no, 1 is yes\n",
    "\n",
    "# model train\n",
    "logr = linear_model.LogisticRegression()\n",
    "logr.fit(x, y)\n",
    "\n",
    "# model evaluation\n",
    "y_pred = logr.predict(numpy.array([4]).reshape(-1, 1))\n",
    "# accuracy = accuracy_score(numpy.array(y_pred))\n",
    "\n",
    "#display\n",
    "print(y_pred)"
   ]
  },
  {
   "cell_type": "code",
   "execution_count": 8,
   "id": "df928dee",
   "metadata": {},
   "outputs": [],
   "source": [
    "#decision trees\n",
    "#uses classficiation and regression\n",
    "\"\"\"\n",
    "summary\n",
    "pro\n",
    "easy to understand\n",
    "can handle both regression and classifiction\n",
    "captures non linear relationsips\n",
    "can andle missing values or outliers\n",
    "\n",
    "con\n",
    "prone to overwritting\n",
    "sensitivity to small changes\n",
    "may not perform well featuresor noise data \n",
    "\"\"\""
   ]
  },
  {
   "cell_type": "code",
   "execution_count": null,
   "id": "ca6b1baa",
   "metadata": {},
   "outputs": [],
   "source": [
    "# decision tree\n",
    "from sklean.tree import DecisionTreeClassifier\n",
    "from sklearn.metrics import accuracy_score\n",
    "\n",
    "#split your data into training and testing sets\n",
    "X_train, X_test, y_train, x_test = train_test_split(x, y, test_size=0.3, random_state=40)\n",
    "                                                    \n",
    "                                                    \n",
    "logr = linear_model.LogisticRegression()\n",
    "logr.fit(x, y)\n",
    "\n",
    "# model evaluation\n",
    "y_pred = logr.predict(numpy.array([4]).reshape(-1, 1))\n",
    "accuracy = accuracy_score(numpy.array(y_pred))\n",
    "\n",
    "#display\n",
    "print(y_pred)"
   ]
  },
  {
   "cell_type": "code",
   "execution_count": null,
   "id": "bd84d3f5",
   "metadata": {
    "collapsed": true
   },
   "outputs": [],
   "source": []
  },
  {
   "cell_type": "code",
   "execution_count": null,
   "id": "d460f5a2",
   "metadata": {},
   "outputs": [],
   "source": [
    "#import libs\n",
    "from sklearn.model_selection import train_test_split\n",
    "from sklearn.linear_model import LogisticRegression\n",
    "from sklearn.metrics import accuracy_score\n",
    "\n",
    "#split your data into training and testing sets\n",
    "X_train, X_test, y_train, x_test = train_test_split(x, y, test_size=0.3, random_state=40)\n",
    "\n",
    "#model training\n",
    "model = LogisticRegression()\n",
    "model.fit(X_train, y_train)\n",
    "\n",
    "#model evaluation"
   ]
  },
  {
   "cell_type": "code",
   "execution_count": 11,
   "id": "b1a951e0",
   "metadata": {},
   "outputs": [],
   "source": [
    "# working with ML model Accuary of different ML models\n",
    "# create model for logistic regression\n",
    "# solve problems based onn classifiation. Create independent variables and dependent variables\n",
    "# categorial prediction\n",
    "y = df.target.values\n",
    "x_data = df.drop(['target'], axis = 1)\n"
   ]
  },
  {
   "cell_type": "code",
   "execution_count": 12,
   "id": "b3b63f40",
   "metadata": {},
   "outputs": [],
   "source": [
    "#normalise\n",
    "x =(x_data - np.min(x_data)) / (np.max(x_data) - np.min(x_data))"
   ]
  },
  {
   "cell_type": "code",
   "execution_count": 13,
   "id": "d8af4160",
   "metadata": {},
   "outputs": [],
   "source": [
    "# slite the data \n",
    "x_train, x_test, y_train, y_test = train_test_split(x,y, test_size = 0.3, random_state=0) "
   ]
  },
  {
   "cell_type": "code",
   "execution_count": null,
   "id": "933eab6b",
   "metadata": {},
   "outputs": [],
   "source": [
    "# transpose\n",
    "x_train = x_train.T\n",
    "y_train = y_train.T\n",
    "x_test = x_test.T\n",
    "y_test = y_test.T"
   ]
  }
 ],
 "metadata": {
  "kernelspec": {
   "display_name": "Python 3 (ipykernel)",
   "language": "python",
   "name": "python3"
  },
  "language_info": {
   "codemirror_mode": {
    "name": "ipython",
    "version": 3
   },
   "file_extension": ".py",
   "mimetype": "text/x-python",
   "name": "python",
   "nbconvert_exporter": "python",
   "pygments_lexer": "ipython3",
   "version": "3.9.13"
  }
 },
 "nbformat": 4,
 "nbformat_minor": 5
}
